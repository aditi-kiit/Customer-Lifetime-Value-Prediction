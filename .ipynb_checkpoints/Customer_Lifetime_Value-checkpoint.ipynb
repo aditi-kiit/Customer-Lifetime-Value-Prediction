{
 "cells": [
  {
   "cell_type": "markdown",
   "id": "fa91c61b-529e-4ce9-9f21-8f48c02cc87c",
   "metadata": {},
   "source": [
    "<center><h1>Customer Lifetime Value With Probabilistic Model</h1></center>"
   ]
  },
  {
   "cell_type": "markdown",
   "id": "c3bf77c4-f1c9-4bd2-aa3d-c0c9ad15b110",
   "metadata": {},
   "source": [
    "<center><img src=\"https://content.webengage.com/wp-content/uploads/sites/4/2016/05/How-to-Calculate-Increase-Customer-.png\" alt=\"Customer Lifetime Value\" width=\"1000\" height=\"600\"></center>"
   ]
  },
  {
   "cell_type": "markdown",
   "id": "e34dfee7-d4f3-4bc9-9706-0af178ab7205",
   "metadata": {},
   "source": [
    "### Business Problem"
   ]
  },
  {
   "cell_type": "markdown",
   "id": "1f1db2d3-00f9-437e-ac3f-93bcd3921efc",
   "metadata": {},
   "source": [
    "- An online company would like to know each customer lifetime value for 6 months and 12 months periods.\n",
    "- We will utilize one of the Buy Till You Die model BG/NBD for predicting purchase amounts and then used Gamma-Gamma model to predict Customer Lifetime Value for desired periods. "
   ]
  },
  {
   "cell_type": "markdown",
   "id": "c5e00ea7-fbc7-4c0f-830e-10f335306c37",
   "metadata": {},
   "source": [
    "### Importing Libraries"
   ]
  },
  {
   "cell_type": "code",
   "execution_count": 1,
   "id": "c9901663-d615-4ce7-a8f8-d71ca610a610",
   "metadata": {},
   "outputs": [],
   "source": [
    "import lifetimes\n",
    "\n",
    "import pandas as pd\n",
    "import numpy as np\n",
    "import datetime as dt\n",
    "\n",
    "import matplotlib.pyplot as plt\n",
    "import seaborn as sns\n",
    "\n",
    "from lifetimes import BetaGeoFitter\n",
    "from lifetimes import GammaGammaFitter\n",
    "from sklearn.preprocessing import MinMaxScaler\n",
    "\n",
    "from lifetimes.plotting import plot_frequency_recency_matrix\n",
    "from lifetimes.plotting import plot_probability_alive_matrix\n",
    "from lifetimes.plotting import plot_period_transactions\n",
    "\n",
    "pd.set_option('display.max_rows', 500)\n",
    "pd.set_option('display.max_columns', 500)\n",
    "pd.set_option('display.width', 1000)"
   ]
  },
  {
   "cell_type": "markdown",
   "id": "803f6d21-2283-444c-b95a-432cda6bbaf8",
   "metadata": {},
   "source": [
    "### Reading Data"
   ]
  },
  {
   "cell_type": "code",
   "execution_count": 2,
   "id": "9e2a6c31-4a0a-4138-9450-6c0d0422fad3",
   "metadata": {},
   "outputs": [],
   "source": [
    "df = pd.read_csv('Online_Retail.csv')"
   ]
  },
  {
   "cell_type": "markdown",
   "id": "1aba290b-9fe5-4e9e-ac38-6be0b4926f78",
   "metadata": {},
   "source": [
    "#### Data Understanding"
   ]
  },
  {
   "cell_type": "code",
   "execution_count": 3,
   "id": "648af7ab-4b2b-4365-b2d3-66b2831ce612",
   "metadata": {},
   "outputs": [
    {
     "data": {
      "text/html": [
       "<div>\n",
       "<style scoped>\n",
       "    .dataframe tbody tr th:only-of-type {\n",
       "        vertical-align: middle;\n",
       "    }\n",
       "\n",
       "    .dataframe tbody tr th {\n",
       "        vertical-align: top;\n",
       "    }\n",
       "\n",
       "    .dataframe thead th {\n",
       "        text-align: right;\n",
       "    }\n",
       "</style>\n",
       "<table border=\"1\" class=\"dataframe\">\n",
       "  <thead>\n",
       "    <tr style=\"text-align: right;\">\n",
       "      <th></th>\n",
       "      <th>InvoiceNo</th>\n",
       "      <th>StockCode</th>\n",
       "      <th>Description</th>\n",
       "      <th>Quantity</th>\n",
       "      <th>InvoiceDate</th>\n",
       "      <th>UnitPrice</th>\n",
       "      <th>CustomerID</th>\n",
       "      <th>Country</th>\n",
       "    </tr>\n",
       "  </thead>\n",
       "  <tbody>\n",
       "    <tr>\n",
       "      <th>0</th>\n",
       "      <td>536365</td>\n",
       "      <td>85123A</td>\n",
       "      <td>WHITE HANGING HEART T-LIGHT HOLDER</td>\n",
       "      <td>6</td>\n",
       "      <td>2010-12-01 08:26:00</td>\n",
       "      <td>2.55</td>\n",
       "      <td>17850.0</td>\n",
       "      <td>United Kingdom</td>\n",
       "    </tr>\n",
       "    <tr>\n",
       "      <th>1</th>\n",
       "      <td>536365</td>\n",
       "      <td>71053</td>\n",
       "      <td>WHITE METAL LANTERN</td>\n",
       "      <td>6</td>\n",
       "      <td>2010-12-01 08:26:00</td>\n",
       "      <td>3.39</td>\n",
       "      <td>17850.0</td>\n",
       "      <td>United Kingdom</td>\n",
       "    </tr>\n",
       "    <tr>\n",
       "      <th>2</th>\n",
       "      <td>536365</td>\n",
       "      <td>84406B</td>\n",
       "      <td>CREAM CUPID HEARTS COAT HANGER</td>\n",
       "      <td>8</td>\n",
       "      <td>2010-12-01 08:26:00</td>\n",
       "      <td>2.75</td>\n",
       "      <td>17850.0</td>\n",
       "      <td>United Kingdom</td>\n",
       "    </tr>\n",
       "    <tr>\n",
       "      <th>3</th>\n",
       "      <td>536365</td>\n",
       "      <td>84029G</td>\n",
       "      <td>KNITTED UNION FLAG HOT WATER BOTTLE</td>\n",
       "      <td>6</td>\n",
       "      <td>2010-12-01 08:26:00</td>\n",
       "      <td>3.39</td>\n",
       "      <td>17850.0</td>\n",
       "      <td>United Kingdom</td>\n",
       "    </tr>\n",
       "    <tr>\n",
       "      <th>4</th>\n",
       "      <td>536365</td>\n",
       "      <td>84029E</td>\n",
       "      <td>RED WOOLLY HOTTIE WHITE HEART.</td>\n",
       "      <td>6</td>\n",
       "      <td>2010-12-01 08:26:00</td>\n",
       "      <td>3.39</td>\n",
       "      <td>17850.0</td>\n",
       "      <td>United Kingdom</td>\n",
       "    </tr>\n",
       "  </tbody>\n",
       "</table>\n",
       "</div>"
      ],
      "text/plain": [
       "  InvoiceNo StockCode                          Description  Quantity          InvoiceDate  UnitPrice  CustomerID         Country\n",
       "0    536365    85123A   WHITE HANGING HEART T-LIGHT HOLDER         6  2010-12-01 08:26:00       2.55     17850.0  United Kingdom\n",
       "1    536365     71053                  WHITE METAL LANTERN         6  2010-12-01 08:26:00       3.39     17850.0  United Kingdom\n",
       "2    536365    84406B       CREAM CUPID HEARTS COAT HANGER         8  2010-12-01 08:26:00       2.75     17850.0  United Kingdom\n",
       "3    536365    84029G  KNITTED UNION FLAG HOT WATER BOTTLE         6  2010-12-01 08:26:00       3.39     17850.0  United Kingdom\n",
       "4    536365    84029E       RED WOOLLY HOTTIE WHITE HEART.         6  2010-12-01 08:26:00       3.39     17850.0  United Kingdom"
      ]
     },
     "execution_count": 3,
     "metadata": {},
     "output_type": "execute_result"
    }
   ],
   "source": [
    "df.head()"
   ]
  },
  {
   "cell_type": "code",
   "execution_count": 4,
   "id": "af677729-2940-4442-933f-fff69995e8c9",
   "metadata": {},
   "outputs": [
    {
     "name": "stdout",
     "output_type": "stream",
     "text": [
      "<class 'pandas.core.frame.DataFrame'>\n",
      "RangeIndex: 495478 entries, 0 to 495477\n",
      "Data columns (total 8 columns):\n",
      " #   Column       Non-Null Count   Dtype  \n",
      "---  ------       --------------   -----  \n",
      " 0   InvoiceNo    495478 non-null  object \n",
      " 1   StockCode    495478 non-null  object \n",
      " 2   Description  494024 non-null  object \n",
      " 3   Quantity     495478 non-null  int64  \n",
      " 4   InvoiceDate  495478 non-null  object \n",
      " 5   UnitPrice    495478 non-null  float64\n",
      " 6   CustomerID   361878 non-null  float64\n",
      " 7   Country      495478 non-null  object \n",
      "dtypes: float64(2), int64(1), object(5)\n",
      "memory usage: 30.2+ MB\n"
     ]
    }
   ],
   "source": [
    "df.info()"
   ]
  },
  {
   "cell_type": "code",
   "execution_count": 5,
   "id": "637f96f1-1b8d-4a7a-af74-0b109f5f2b79",
   "metadata": {},
   "outputs": [
    {
     "data": {
      "text/html": [
       "<div>\n",
       "<style scoped>\n",
       "    .dataframe tbody tr th:only-of-type {\n",
       "        vertical-align: middle;\n",
       "    }\n",
       "\n",
       "    .dataframe tbody tr th {\n",
       "        vertical-align: top;\n",
       "    }\n",
       "\n",
       "    .dataframe thead th {\n",
       "        text-align: right;\n",
       "    }\n",
       "</style>\n",
       "<table border=\"1\" class=\"dataframe\">\n",
       "  <thead>\n",
       "    <tr style=\"text-align: right;\">\n",
       "      <th></th>\n",
       "      <th>Quantity</th>\n",
       "      <th>UnitPrice</th>\n",
       "      <th>CustomerID</th>\n",
       "    </tr>\n",
       "  </thead>\n",
       "  <tbody>\n",
       "    <tr>\n",
       "      <th>count</th>\n",
       "      <td>495478.000000</td>\n",
       "      <td>495478.000000</td>\n",
       "      <td>361878.000000</td>\n",
       "    </tr>\n",
       "    <tr>\n",
       "      <th>mean</th>\n",
       "      <td>8.605486</td>\n",
       "      <td>4.532422</td>\n",
       "      <td>15547.871368</td>\n",
       "    </tr>\n",
       "    <tr>\n",
       "      <th>std</th>\n",
       "      <td>227.588756</td>\n",
       "      <td>99.315438</td>\n",
       "      <td>1594.402590</td>\n",
       "    </tr>\n",
       "    <tr>\n",
       "      <th>min</th>\n",
       "      <td>-80995.000000</td>\n",
       "      <td>-11062.060000</td>\n",
       "      <td>12346.000000</td>\n",
       "    </tr>\n",
       "    <tr>\n",
       "      <th>25%</th>\n",
       "      <td>1.000000</td>\n",
       "      <td>1.250000</td>\n",
       "      <td>14194.000000</td>\n",
       "    </tr>\n",
       "    <tr>\n",
       "      <th>50%</th>\n",
       "      <td>3.000000</td>\n",
       "      <td>2.100000</td>\n",
       "      <td>15514.000000</td>\n",
       "    </tr>\n",
       "    <tr>\n",
       "      <th>75%</th>\n",
       "      <td>10.000000</td>\n",
       "      <td>4.130000</td>\n",
       "      <td>16931.000000</td>\n",
       "    </tr>\n",
       "    <tr>\n",
       "      <th>max</th>\n",
       "      <td>80995.000000</td>\n",
       "      <td>38970.000000</td>\n",
       "      <td>18287.000000</td>\n",
       "    </tr>\n",
       "  </tbody>\n",
       "</table>\n",
       "</div>"
      ],
      "text/plain": [
       "            Quantity      UnitPrice     CustomerID\n",
       "count  495478.000000  495478.000000  361878.000000\n",
       "mean        8.605486       4.532422   15547.871368\n",
       "std       227.588756      99.315438    1594.402590\n",
       "min    -80995.000000  -11062.060000   12346.000000\n",
       "25%         1.000000       1.250000   14194.000000\n",
       "50%         3.000000       2.100000   15514.000000\n",
       "75%        10.000000       4.130000   16931.000000\n",
       "max     80995.000000   38970.000000   18287.000000"
      ]
     },
     "execution_count": 5,
     "metadata": {},
     "output_type": "execute_result"
    }
   ],
   "source": [
    "df.describe()"
   ]
  },
  {
   "cell_type": "markdown",
   "id": "cfafa285-74e9-46d6-b6e3-81bebc3950b8",
   "metadata": {},
   "source": [
    "### Data Preprocessing"
   ]
  },
  {
   "cell_type": "code",
   "execution_count": 6,
   "id": "4980a7fd-8e24-4b7f-95f3-bea4eb31e297",
   "metadata": {
    "tags": []
   },
   "outputs": [],
   "source": [
    "df = df[df['Quantity'] > 0 ]\n",
    "df = df[df['UnitPrice'] > 0]\n",
    "df = df[~df['InvoiceNo'].str.contains(\"C\",na=False)] # drop returned items"
   ]
  },
  {
   "cell_type": "markdown",
   "id": "31041550-4f5e-4be8-bf2f-b939c474c742",
   "metadata": {},
   "source": [
    "#### Missing Values\n"
   ]
  },
  {
   "cell_type": "code",
   "execution_count": 7,
   "id": "4a999daa-d28b-4246-8f36-cad08762a373",
   "metadata": {},
   "outputs": [],
   "source": [
    "df.dropna(inplace=True)"
   ]
  },
  {
   "cell_type": "markdown",
   "id": "5fbf2765-9bdc-47c1-9976-5d42c5dfde00",
   "metadata": {},
   "source": [
    "#### Handling Outliers"
   ]
  },
  {
   "cell_type": "code",
   "execution_count": 8,
   "id": "42943109-3081-40fb-9528-1197252899c4",
   "metadata": {},
   "outputs": [],
   "source": [
    "def find_boundaries(df, variable,q1=0.05,q2=0.95):\n",
    "\n",
    "    # the boundaries are the quantiles\n",
    "\n",
    "    lower_boundary = df[variable].quantile(q1)\n",
    "    upper_boundary = df[variable].quantile(q2)\n",
    "\n",
    "    return upper_boundary, lower_boundary\n",
    "\n",
    "def capping_outliers(df,variable):\n",
    "    upper_boundary,lower_boundary =  find_boundaries(df,variable)\n",
    "    df[variable] = np.where(df[variable] > upper_boundary, upper_boundary,\n",
    "                       np.where(df[variable] < lower_boundary, lower_boundary, df[variable]))"
   ]
  },
  {
   "cell_type": "code",
   "execution_count": 9,
   "id": "04afe0ee-e9d6-4539-b4b8-da2161cfb4c9",
   "metadata": {},
   "outputs": [],
   "source": [
    "capping_outliers(df,'UnitPrice')\n",
    "capping_outliers(df,'Quantity')"
   ]
  },
  {
   "cell_type": "code",
   "execution_count": 10,
   "id": "ff532976-83de-4c55-a2d8-d17d7e24af4a",
   "metadata": {},
   "outputs": [
    {
     "data": {
      "text/html": [
       "<div>\n",
       "<style scoped>\n",
       "    .dataframe tbody tr th:only-of-type {\n",
       "        vertical-align: middle;\n",
       "    }\n",
       "\n",
       "    .dataframe tbody tr th {\n",
       "        vertical-align: top;\n",
       "    }\n",
       "\n",
       "    .dataframe thead th {\n",
       "        text-align: right;\n",
       "    }\n",
       "</style>\n",
       "<table border=\"1\" class=\"dataframe\">\n",
       "  <thead>\n",
       "    <tr style=\"text-align: right;\">\n",
       "      <th></th>\n",
       "      <th>Quantity</th>\n",
       "      <th>UnitPrice</th>\n",
       "      <th>CustomerID</th>\n",
       "    </tr>\n",
       "  </thead>\n",
       "  <tbody>\n",
       "    <tr>\n",
       "      <th>count</th>\n",
       "      <td>354321.000000</td>\n",
       "      <td>354321.000000</td>\n",
       "      <td>354321.000000</td>\n",
       "    </tr>\n",
       "    <tr>\n",
       "      <th>mean</th>\n",
       "      <td>8.348212</td>\n",
       "      <td>2.651029</td>\n",
       "      <td>15552.486392</td>\n",
       "    </tr>\n",
       "    <tr>\n",
       "      <th>std</th>\n",
       "      <td>9.245021</td>\n",
       "      <td>2.248187</td>\n",
       "      <td>1594.527150</td>\n",
       "    </tr>\n",
       "    <tr>\n",
       "      <th>min</th>\n",
       "      <td>1.000000</td>\n",
       "      <td>0.420000</td>\n",
       "      <td>12346.000000</td>\n",
       "    </tr>\n",
       "    <tr>\n",
       "      <th>25%</th>\n",
       "      <td>2.000000</td>\n",
       "      <td>1.250000</td>\n",
       "      <td>14194.000000</td>\n",
       "    </tr>\n",
       "    <tr>\n",
       "      <th>50%</th>\n",
       "      <td>4.000000</td>\n",
       "      <td>1.950000</td>\n",
       "      <td>15522.000000</td>\n",
       "    </tr>\n",
       "    <tr>\n",
       "      <th>75%</th>\n",
       "      <td>12.000000</td>\n",
       "      <td>3.750000</td>\n",
       "      <td>16931.000000</td>\n",
       "    </tr>\n",
       "    <tr>\n",
       "      <th>max</th>\n",
       "      <td>36.000000</td>\n",
       "      <td>8.500000</td>\n",
       "      <td>18287.000000</td>\n",
       "    </tr>\n",
       "  </tbody>\n",
       "</table>\n",
       "</div>"
      ],
      "text/plain": [
       "            Quantity      UnitPrice     CustomerID\n",
       "count  354321.000000  354321.000000  354321.000000\n",
       "mean        8.348212       2.651029   15552.486392\n",
       "std         9.245021       2.248187    1594.527150\n",
       "min         1.000000       0.420000   12346.000000\n",
       "25%         2.000000       1.250000   14194.000000\n",
       "50%         4.000000       1.950000   15522.000000\n",
       "75%        12.000000       3.750000   16931.000000\n",
       "max        36.000000       8.500000   18287.000000"
      ]
     },
     "execution_count": 10,
     "metadata": {},
     "output_type": "execute_result"
    }
   ],
   "source": [
    "df.describe()"
   ]
  },
  {
   "cell_type": "markdown",
   "id": "63a1ab42-86a5-4aad-a6bb-eead4100c080",
   "metadata": {},
   "source": [
    "#### Filtering only United Kingdom for Country"
   ]
  },
  {
   "cell_type": "code",
   "execution_count": 11,
   "id": "2fafa02b-d410-432b-8bed-9f31afbb334e",
   "metadata": {},
   "outputs": [],
   "source": [
    "df = df[df.Country == 'United Kingdom']"
   ]
  },
  {
   "cell_type": "code",
   "execution_count": 12,
   "id": "8ba24a65-3f43-403a-b1d2-b170dff16c2b",
   "metadata": {
    "tags": []
   },
   "outputs": [
    {
     "data": {
      "text/html": [
       "<div>\n",
       "<style scoped>\n",
       "    .dataframe tbody tr th:only-of-type {\n",
       "        vertical-align: middle;\n",
       "    }\n",
       "\n",
       "    .dataframe tbody tr th {\n",
       "        vertical-align: top;\n",
       "    }\n",
       "\n",
       "    .dataframe thead th {\n",
       "        text-align: right;\n",
       "    }\n",
       "</style>\n",
       "<table border=\"1\" class=\"dataframe\">\n",
       "  <thead>\n",
       "    <tr style=\"text-align: right;\">\n",
       "      <th></th>\n",
       "      <th>InvoiceNo</th>\n",
       "      <th>StockCode</th>\n",
       "      <th>Description</th>\n",
       "      <th>Quantity</th>\n",
       "      <th>InvoiceDate</th>\n",
       "      <th>UnitPrice</th>\n",
       "      <th>CustomerID</th>\n",
       "      <th>Country</th>\n",
       "    </tr>\n",
       "  </thead>\n",
       "  <tbody>\n",
       "    <tr>\n",
       "      <th>0</th>\n",
       "      <td>536365</td>\n",
       "      <td>85123A</td>\n",
       "      <td>WHITE HANGING HEART T-LIGHT HOLDER</td>\n",
       "      <td>6.0</td>\n",
       "      <td>2010-12-01 08:26:00</td>\n",
       "      <td>2.55</td>\n",
       "      <td>17850.0</td>\n",
       "      <td>United Kingdom</td>\n",
       "    </tr>\n",
       "    <tr>\n",
       "      <th>1</th>\n",
       "      <td>536365</td>\n",
       "      <td>71053</td>\n",
       "      <td>WHITE METAL LANTERN</td>\n",
       "      <td>6.0</td>\n",
       "      <td>2010-12-01 08:26:00</td>\n",
       "      <td>3.39</td>\n",
       "      <td>17850.0</td>\n",
       "      <td>United Kingdom</td>\n",
       "    </tr>\n",
       "    <tr>\n",
       "      <th>2</th>\n",
       "      <td>536365</td>\n",
       "      <td>84406B</td>\n",
       "      <td>CREAM CUPID HEARTS COAT HANGER</td>\n",
       "      <td>8.0</td>\n",
       "      <td>2010-12-01 08:26:00</td>\n",
       "      <td>2.75</td>\n",
       "      <td>17850.0</td>\n",
       "      <td>United Kingdom</td>\n",
       "    </tr>\n",
       "    <tr>\n",
       "      <th>3</th>\n",
       "      <td>536365</td>\n",
       "      <td>84029G</td>\n",
       "      <td>KNITTED UNION FLAG HOT WATER BOTTLE</td>\n",
       "      <td>6.0</td>\n",
       "      <td>2010-12-01 08:26:00</td>\n",
       "      <td>3.39</td>\n",
       "      <td>17850.0</td>\n",
       "      <td>United Kingdom</td>\n",
       "    </tr>\n",
       "    <tr>\n",
       "      <th>4</th>\n",
       "      <td>536365</td>\n",
       "      <td>84029E</td>\n",
       "      <td>RED WOOLLY HOTTIE WHITE HEART.</td>\n",
       "      <td>6.0</td>\n",
       "      <td>2010-12-01 08:26:00</td>\n",
       "      <td>3.39</td>\n",
       "      <td>17850.0</td>\n",
       "      <td>United Kingdom</td>\n",
       "    </tr>\n",
       "  </tbody>\n",
       "</table>\n",
       "</div>"
      ],
      "text/plain": [
       "  InvoiceNo StockCode                          Description  Quantity          InvoiceDate  UnitPrice  CustomerID         Country\n",
       "0    536365    85123A   WHITE HANGING HEART T-LIGHT HOLDER       6.0  2010-12-01 08:26:00       2.55     17850.0  United Kingdom\n",
       "1    536365     71053                  WHITE METAL LANTERN       6.0  2010-12-01 08:26:00       3.39     17850.0  United Kingdom\n",
       "2    536365    84406B       CREAM CUPID HEARTS COAT HANGER       8.0  2010-12-01 08:26:00       2.75     17850.0  United Kingdom\n",
       "3    536365    84029G  KNITTED UNION FLAG HOT WATER BOTTLE       6.0  2010-12-01 08:26:00       3.39     17850.0  United Kingdom\n",
       "4    536365    84029E       RED WOOLLY HOTTIE WHITE HEART.       6.0  2010-12-01 08:26:00       3.39     17850.0  United Kingdom"
      ]
     },
     "execution_count": 12,
     "metadata": {},
     "output_type": "execute_result"
    }
   ],
   "source": [
    "df.head()"
   ]
  },
  {
   "cell_type": "markdown",
   "id": "0061e10e-d853-4476-8ce3-69db1e80c449",
   "metadata": {},
   "source": [
    "#### Creating Column 'Total Price'"
   ]
  },
  {
   "cell_type": "code",
   "execution_count": 13,
   "id": "5f3dace9-84dc-4427-a43d-82eb54147dff",
   "metadata": {},
   "outputs": [],
   "source": [
    "df['Total Price'] = df['UnitPrice'] * df['Quantity']"
   ]
  },
  {
   "cell_type": "code",
   "execution_count": 14,
   "id": "dde6303d-dad2-471f-b84e-dfdc220094f4",
   "metadata": {},
   "outputs": [
    {
     "data": {
      "text/html": [
       "<div>\n",
       "<style scoped>\n",
       "    .dataframe tbody tr th:only-of-type {\n",
       "        vertical-align: middle;\n",
       "    }\n",
       "\n",
       "    .dataframe tbody tr th {\n",
       "        vertical-align: top;\n",
       "    }\n",
       "\n",
       "    .dataframe thead th {\n",
       "        text-align: right;\n",
       "    }\n",
       "</style>\n",
       "<table border=\"1\" class=\"dataframe\">\n",
       "  <thead>\n",
       "    <tr style=\"text-align: right;\">\n",
       "      <th></th>\n",
       "      <th>InvoiceNo</th>\n",
       "      <th>StockCode</th>\n",
       "      <th>Description</th>\n",
       "      <th>Quantity</th>\n",
       "      <th>InvoiceDate</th>\n",
       "      <th>UnitPrice</th>\n",
       "      <th>CustomerID</th>\n",
       "      <th>Country</th>\n",
       "      <th>Total Price</th>\n",
       "    </tr>\n",
       "  </thead>\n",
       "  <tbody>\n",
       "    <tr>\n",
       "      <th>0</th>\n",
       "      <td>536365</td>\n",
       "      <td>85123A</td>\n",
       "      <td>WHITE HANGING HEART T-LIGHT HOLDER</td>\n",
       "      <td>6.0</td>\n",
       "      <td>2010-12-01 08:26:00</td>\n",
       "      <td>2.55</td>\n",
       "      <td>17850.0</td>\n",
       "      <td>United Kingdom</td>\n",
       "      <td>15.30</td>\n",
       "    </tr>\n",
       "    <tr>\n",
       "      <th>1</th>\n",
       "      <td>536365</td>\n",
       "      <td>71053</td>\n",
       "      <td>WHITE METAL LANTERN</td>\n",
       "      <td>6.0</td>\n",
       "      <td>2010-12-01 08:26:00</td>\n",
       "      <td>3.39</td>\n",
       "      <td>17850.0</td>\n",
       "      <td>United Kingdom</td>\n",
       "      <td>20.34</td>\n",
       "    </tr>\n",
       "    <tr>\n",
       "      <th>2</th>\n",
       "      <td>536365</td>\n",
       "      <td>84406B</td>\n",
       "      <td>CREAM CUPID HEARTS COAT HANGER</td>\n",
       "      <td>8.0</td>\n",
       "      <td>2010-12-01 08:26:00</td>\n",
       "      <td>2.75</td>\n",
       "      <td>17850.0</td>\n",
       "      <td>United Kingdom</td>\n",
       "      <td>22.00</td>\n",
       "    </tr>\n",
       "    <tr>\n",
       "      <th>3</th>\n",
       "      <td>536365</td>\n",
       "      <td>84029G</td>\n",
       "      <td>KNITTED UNION FLAG HOT WATER BOTTLE</td>\n",
       "      <td>6.0</td>\n",
       "      <td>2010-12-01 08:26:00</td>\n",
       "      <td>3.39</td>\n",
       "      <td>17850.0</td>\n",
       "      <td>United Kingdom</td>\n",
       "      <td>20.34</td>\n",
       "    </tr>\n",
       "    <tr>\n",
       "      <th>4</th>\n",
       "      <td>536365</td>\n",
       "      <td>84029E</td>\n",
       "      <td>RED WOOLLY HOTTIE WHITE HEART.</td>\n",
       "      <td>6.0</td>\n",
       "      <td>2010-12-01 08:26:00</td>\n",
       "      <td>3.39</td>\n",
       "      <td>17850.0</td>\n",
       "      <td>United Kingdom</td>\n",
       "      <td>20.34</td>\n",
       "    </tr>\n",
       "  </tbody>\n",
       "</table>\n",
       "</div>"
      ],
      "text/plain": [
       "  InvoiceNo StockCode                          Description  Quantity          InvoiceDate  UnitPrice  CustomerID         Country  Total Price\n",
       "0    536365    85123A   WHITE HANGING HEART T-LIGHT HOLDER       6.0  2010-12-01 08:26:00       2.55     17850.0  United Kingdom        15.30\n",
       "1    536365     71053                  WHITE METAL LANTERN       6.0  2010-12-01 08:26:00       3.39     17850.0  United Kingdom        20.34\n",
       "2    536365    84406B       CREAM CUPID HEARTS COAT HANGER       8.0  2010-12-01 08:26:00       2.75     17850.0  United Kingdom        22.00\n",
       "3    536365    84029G  KNITTED UNION FLAG HOT WATER BOTTLE       6.0  2010-12-01 08:26:00       3.39     17850.0  United Kingdom        20.34\n",
       "4    536365    84029E       RED WOOLLY HOTTIE WHITE HEART.       6.0  2010-12-01 08:26:00       3.39     17850.0  United Kingdom        20.34"
      ]
     },
     "execution_count": 14,
     "metadata": {},
     "output_type": "execute_result"
    }
   ],
   "source": [
    "df.head()"
   ]
  },
  {
   "cell_type": "markdown",
   "id": "86c66c1f-71e5-47e9-9466-5199515b8498",
   "metadata": {},
   "source": [
    "### Creating Summary Dataset"
   ]
  },
  {
   "cell_type": "markdown",
   "id": "a3091502-19c5-4d27-a27d-f484157ebb6d",
   "metadata": {},
   "source": [
    "By using lifetimes we can also create our RFM data from the original dataset."
   ]
  },
  {
   "cell_type": "markdown",
   "id": "4875f5ea-de4c-40ac-b525-9d69dbbe78a8",
   "metadata": {},
   "source": [
    "- **Frequency** represents the number of repeat purchases the customer has made. This means that it’s one less than the total number of purchases. This is actually slightly wrong. It’s the count of time periods the customer had a purchase in. So if using days as units, then it’s the count of days the customer had a purchase on.\n",
    "\n",
    "- **Recency** represents the age of the customer when they made their most recent purchases. This is equal to the duration between a customer’s first purchase and their latest purchase. (Thus if they have made only 1 purchase, the recency is 0.)\n",
    "\n",
    "- **T** represents the age of the customer in whatever time units chosen (weekly, in the above dataset). This is equal to the duration between a customer’s first purchase and the end of the period under study.\n",
    "\n",
    "- **Monetary_Value** represents the average value of a given customer’s purchases. This is equal to the sum of all a customer’s purchases divided by the total number of purchases. Note that the denominator here is different than the frequency described above."
   ]
  },
  {
   "cell_type": "code",
   "execution_count": 15,
   "id": "7619dc72-dc5f-4dd5-9058-488e5c71d028",
   "metadata": {},
   "outputs": [],
   "source": [
    "clv = lifetimes.utils.summary_data_from_transaction_data(df,'CustomerID','InvoiceDate','Total Price',observation_period_end='2011-12-09')"
   ]
  },
  {
   "cell_type": "code",
   "execution_count": 16,
   "id": "710b13fc-9302-42f2-8042-97fdae575e7a",
   "metadata": {
    "tags": []
   },
   "outputs": [],
   "source": [
    "clv = clv[clv['frequency']>1] # we want only customers shopped more than 2 times"
   ]
  },
  {
   "cell_type": "code",
   "execution_count": 17,
   "id": "bcfb6301-e7a5-4c97-a45d-dc17bf4b5714",
   "metadata": {},
   "outputs": [
    {
     "data": {
      "text/html": [
       "<div>\n",
       "<style scoped>\n",
       "    .dataframe tbody tr th:only-of-type {\n",
       "        vertical-align: middle;\n",
       "    }\n",
       "\n",
       "    .dataframe tbody tr th {\n",
       "        vertical-align: top;\n",
       "    }\n",
       "\n",
       "    .dataframe thead th {\n",
       "        text-align: right;\n",
       "    }\n",
       "</style>\n",
       "<table border=\"1\" class=\"dataframe\">\n",
       "  <thead>\n",
       "    <tr style=\"text-align: right;\">\n",
       "      <th></th>\n",
       "      <th>frequency</th>\n",
       "      <th>recency</th>\n",
       "      <th>T</th>\n",
       "      <th>monetary_value</th>\n",
       "    </tr>\n",
       "    <tr>\n",
       "      <th>CustomerID</th>\n",
       "      <th></th>\n",
       "      <th></th>\n",
       "      <th></th>\n",
       "      <th></th>\n",
       "    </tr>\n",
       "  </thead>\n",
       "  <tbody>\n",
       "    <tr>\n",
       "      <th>12747.0</th>\n",
       "      <td>10.0</td>\n",
       "      <td>367.0</td>\n",
       "      <td>369.0</td>\n",
       "      <td>375.725000</td>\n",
       "    </tr>\n",
       "    <tr>\n",
       "      <th>12748.0</th>\n",
       "      <td>112.0</td>\n",
       "      <td>373.0</td>\n",
       "      <td>373.0</td>\n",
       "      <td>257.314911</td>\n",
       "    </tr>\n",
       "    <tr>\n",
       "      <th>12749.0</th>\n",
       "      <td>3.0</td>\n",
       "      <td>210.0</td>\n",
       "      <td>213.0</td>\n",
       "      <td>999.106667</td>\n",
       "    </tr>\n",
       "    <tr>\n",
       "      <th>12820.0</th>\n",
       "      <td>3.0</td>\n",
       "      <td>323.0</td>\n",
       "      <td>326.0</td>\n",
       "      <td>256.573333</td>\n",
       "    </tr>\n",
       "    <tr>\n",
       "      <th>12823.0</th>\n",
       "      <td>4.0</td>\n",
       "      <td>222.0</td>\n",
       "      <td>296.0</td>\n",
       "      <td>252.450000</td>\n",
       "    </tr>\n",
       "  </tbody>\n",
       "</table>\n",
       "</div>"
      ],
      "text/plain": [
       "            frequency  recency      T  monetary_value\n",
       "CustomerID                                           \n",
       "12747.0          10.0    367.0  369.0      375.725000\n",
       "12748.0         112.0    373.0  373.0      257.314911\n",
       "12749.0           3.0    210.0  213.0      999.106667\n",
       "12820.0           3.0    323.0  326.0      256.573333\n",
       "12823.0           4.0    222.0  296.0      252.450000"
      ]
     },
     "execution_count": 17,
     "metadata": {},
     "output_type": "execute_result"
    }
   ],
   "source": [
    "clv.head()"
   ]
  },
  {
   "cell_type": "markdown",
   "id": "7dc7c9a7-e05a-41f0-b1ea-962cd2583c0a",
   "metadata": {},
   "source": [
    "### BG/NBD Model for Predicting Number of Purchase"
   ]
  },
  {
   "cell_type": "code",
   "execution_count": 18,
   "id": "70cad4ce-c9f1-49a2-bc2c-59e36f9bca96",
   "metadata": {},
   "outputs": [
    {
     "data": {
      "text/plain": [
       "<lifetimes.BetaGeoFitter: fitted with 1738 subjects, a: 0.00, alpha: 112.07, b: 0.00, r: 2.38>"
      ]
     },
     "execution_count": 18,
     "metadata": {},
     "output_type": "execute_result"
    }
   ],
   "source": [
    "bgf = BetaGeoFitter(penalizer_coef=0.001)\n",
    "bgf.fit(clv['frequency'], clv['recency'], clv['T'])"
   ]
  },
  {
   "cell_type": "markdown",
   "id": "ebf46ca8-f19f-4d23-ac79-863bc6a11172",
   "metadata": {},
   "source": [
    "#### Summary of BG/NBD Model"
   ]
  },
  {
   "cell_type": "code",
   "execution_count": 19,
   "id": "5d99054d-9cf2-4383-9aa3-32bcf6562ce6",
   "metadata": {},
   "outputs": [
    {
     "data": {
      "text/html": [
       "<div>\n",
       "<style scoped>\n",
       "    .dataframe tbody tr th:only-of-type {\n",
       "        vertical-align: middle;\n",
       "    }\n",
       "\n",
       "    .dataframe tbody tr th {\n",
       "        vertical-align: top;\n",
       "    }\n",
       "\n",
       "    .dataframe thead th {\n",
       "        text-align: right;\n",
       "    }\n",
       "</style>\n",
       "<table border=\"1\" class=\"dataframe\">\n",
       "  <thead>\n",
       "    <tr style=\"text-align: right;\">\n",
       "      <th></th>\n",
       "      <th>coef</th>\n",
       "      <th>se(coef)</th>\n",
       "      <th>lower 95% bound</th>\n",
       "      <th>upper 95% bound</th>\n",
       "    </tr>\n",
       "  </thead>\n",
       "  <tbody>\n",
       "    <tr>\n",
       "      <th>r</th>\n",
       "      <td>2.381731e+00</td>\n",
       "      <td>1.013873e-01</td>\n",
       "      <td>2.183012e+00</td>\n",
       "      <td>2.580451e+00</td>\n",
       "    </tr>\n",
       "    <tr>\n",
       "      <th>alpha</th>\n",
       "      <td>1.120749e+02</td>\n",
       "      <td>5.267568e+00</td>\n",
       "      <td>1.017504e+02</td>\n",
       "      <td>1.223993e+02</td>\n",
       "    </tr>\n",
       "    <tr>\n",
       "      <th>a</th>\n",
       "      <td>2.301100e-14</td>\n",
       "      <td>3.668831e-10</td>\n",
       "      <td>-7.190678e-10</td>\n",
       "      <td>7.191138e-10</td>\n",
       "    </tr>\n",
       "    <tr>\n",
       "      <th>b</th>\n",
       "      <td>2.398753e-05</td>\n",
       "      <td>3.819882e-01</td>\n",
       "      <td>-7.486728e-01</td>\n",
       "      <td>7.487208e-01</td>\n",
       "    </tr>\n",
       "  </tbody>\n",
       "</table>\n",
       "</div>"
      ],
      "text/plain": [
       "               coef      se(coef)  lower 95% bound  upper 95% bound\n",
       "r      2.381731e+00  1.013873e-01     2.183012e+00     2.580451e+00\n",
       "alpha  1.120749e+02  5.267568e+00     1.017504e+02     1.223993e+02\n",
       "a      2.301100e-14  3.668831e-10    -7.190678e-10     7.191138e-10\n",
       "b      2.398753e-05  3.819882e-01    -7.486728e-01     7.487208e-01"
      ]
     },
     "execution_count": 19,
     "metadata": {},
     "output_type": "execute_result"
    }
   ],
   "source": [
    "bgf.summary"
   ]
  },
  {
   "cell_type": "markdown",
   "id": "83920584-009b-44ca-bb85-0620ac64e062",
   "metadata": {},
   "source": [
    "### Visualizing our Frequency/Recency Matrix"
   ]
  },
  {
   "cell_type": "code",
   "execution_count": 20,
   "id": "9a9dd4fd-63f9-455e-84e2-76c449b13d61",
   "metadata": {},
   "outputs": [
    {
     "data": {
      "image/png": "[encoded data removed]",
      "text/plain": [
       "<Figure size 864x648 with 2 Axes>"
      ]
     },
     "metadata": {
      "needs_background": "light"
     },
     "output_type": "display_data"
    }
   ],
   "source": [
    "plt.figure(figsize=(12,9))\n",
    "plot_frequency_recency_matrix(bgf)\n",
    "plt.show()"
   ]
  },
  {
   "cell_type": "markdown",
   "id": "ba283f5b-7e4d-4613-bef0-7d5264770db7",
   "metadata": {},
   "source": [
    "#### Expected Number of Purchases in 6 Months"
   ]
  },
  {
   "cell_type": "code",
   "execution_count": 21,
   "id": "3354b457-cbb3-4cf8-9df8-e83adabf9475",
   "metadata": {},
   "outputs": [
    {
     "data": {
      "text/html": [
       "<div>\n",
       "<style scoped>\n",
       "    .dataframe tbody tr th:only-of-type {\n",
       "        vertical-align: middle;\n",
       "    }\n",
       "\n",
       "    .dataframe tbody tr th {\n",
       "        vertical-align: top;\n",
       "    }\n",
       "\n",
       "    .dataframe thead th {\n",
       "        text-align: right;\n",
       "    }\n",
       "</style>\n",
       "<table border=\"1\" class=\"dataframe\">\n",
       "  <thead>\n",
       "    <tr style=\"text-align: right;\">\n",
       "      <th></th>\n",
       "      <th>frequency</th>\n",
       "      <th>recency</th>\n",
       "      <th>T</th>\n",
       "      <th>monetary_value</th>\n",
       "      <th>expected_purc_6_months</th>\n",
       "    </tr>\n",
       "    <tr>\n",
       "      <th>CustomerID</th>\n",
       "      <th></th>\n",
       "      <th></th>\n",
       "      <th></th>\n",
       "      <th></th>\n",
       "      <th></th>\n",
       "    </tr>\n",
       "  </thead>\n",
       "  <tbody>\n",
       "    <tr>\n",
       "      <th>12748.0</th>\n",
       "      <td>112.0</td>\n",
       "      <td>373.0</td>\n",
       "      <td>373.0</td>\n",
       "      <td>257.314911</td>\n",
       "      <td>42.444401</td>\n",
       "    </tr>\n",
       "    <tr>\n",
       "      <th>17841.0</th>\n",
       "      <td>111.0</td>\n",
       "      <td>372.0</td>\n",
       "      <td>373.0</td>\n",
       "      <td>349.079640</td>\n",
       "      <td>42.073324</td>\n",
       "    </tr>\n",
       "    <tr>\n",
       "      <th>15311.0</th>\n",
       "      <td>89.0</td>\n",
       "      <td>373.0</td>\n",
       "      <td>373.0</td>\n",
       "      <td>421.881573</td>\n",
       "      <td>33.909635</td>\n",
       "    </tr>\n",
       "    <tr>\n",
       "      <th>14606.0</th>\n",
       "      <td>88.0</td>\n",
       "      <td>372.0</td>\n",
       "      <td>373.0</td>\n",
       "      <td>125.302955</td>\n",
       "      <td>33.538559</td>\n",
       "    </tr>\n",
       "    <tr>\n",
       "      <th>12971.0</th>\n",
       "      <td>70.0</td>\n",
       "      <td>369.0</td>\n",
       "      <td>372.0</td>\n",
       "      <td>132.197571</td>\n",
       "      <td>26.914663</td>\n",
       "    </tr>\n",
       "  </tbody>\n",
       "</table>\n",
       "</div>"
      ],
      "text/plain": [
       "            frequency  recency      T  monetary_value  expected_purc_6_months\n",
       "CustomerID                                                                   \n",
       "12748.0         112.0    373.0  373.0      257.314911               42.444401\n",
       "17841.0         111.0    372.0  373.0      349.079640               42.073324\n",
       "15311.0          89.0    373.0  373.0      421.881573               33.909635\n",
       "14606.0          88.0    372.0  373.0      125.302955               33.538559\n",
       "12971.0          70.0    369.0  372.0      132.197571               26.914663"
      ]
     },
     "execution_count": 21,
     "metadata": {},
     "output_type": "execute_result"
    }
   ],
   "source": [
    "t = 180 # 30 day period\n",
    "clv['expected_purc_6_months'] = bgf.conditional_expected_number_of_purchases_up_to_time(t, clv['frequency'], clv['recency'], clv['T'])\n",
    "clv.sort_values(by='expected_purc_6_months',ascending=False).head(5)"
   ]
  },
  {
   "cell_type": "markdown",
   "id": "97af4ba1-168f-43f0-a694-92e843368284",
   "metadata": {},
   "source": [
    "#### Expected Number of Purchases ın 12 Months"
   ]
  },
  {
   "cell_type": "code",
   "execution_count": 22,
   "id": "46b4c15d-d8f5-41f0-8c04-ead29a85573a",
   "metadata": {},
   "outputs": [],
   "source": [
    "#t = 360\n",
    "#clv['expected_purc_12_months'] = bgf.conditional_expected_number_of_purchases_up_to_time(t, clv['frequency'], clv['recency'], clv['T'])\n",
    "#clv.sort_values(by='expected_purc_12_months',ascending=False).head(5)"
   ]
  },
  {
   "cell_type": "markdown",
   "id": "f08eca53-d43d-4780-87b5-ee9997e1728f",
   "metadata": {},
   "source": [
    "### Gamma - Gamma Model"
   ]
  },
  {
   "cell_type": "markdown",
   "id": "8c2fc1cf-12aa-4272-9433-5a536193b885",
   "metadata": {},
   "source": [
    "The Gamma-Gamma Model can predict the most likely value per transaction in the future"
   ]
  },
  {
   "cell_type": "markdown",
   "id": "367dceca-0a96-4c37-b013-c3ab299594d8",
   "metadata": {},
   "source": [
    "#### Assumption"
   ]
  },
  {
   "cell_type": "markdown",
   "id": "fbe2e51c-4ad9-481d-9033-3c782de1e8f1",
   "metadata": {},
   "source": [
    "The model we are going to use to estimate the CLV for our userbase is called the Gamma-Gamma submodel, which relies upon an important assumption. The Gamma-Gamma submodel, in fact, assumes that there is no relationship between the monetary value and the purchase frequency. In practice we need to check whether the Pearson correlation between the two vectors is close to 0 in order to use this model."
   ]
  },
  {
   "cell_type": "code",
   "execution_count": 23,
   "id": "0d52d747-a7f6-4ef1-9f0a-a36eb9d358c3",
   "metadata": {},
   "outputs": [
    {
     "data": {
      "text/html": [
       "<div>\n",
       "<style scoped>\n",
       "    .dataframe tbody tr th:only-of-type {\n",
       "        vertical-align: middle;\n",
       "    }\n",
       "\n",
       "    .dataframe tbody tr th {\n",
       "        vertical-align: top;\n",
       "    }\n",
       "\n",
       "    .dataframe thead th {\n",
       "        text-align: right;\n",
       "    }\n",
       "</style>\n",
       "<table border=\"1\" class=\"dataframe\">\n",
       "  <thead>\n",
       "    <tr style=\"text-align: right;\">\n",
       "      <th></th>\n",
       "      <th>frequency</th>\n",
       "      <th>monetary_value</th>\n",
       "    </tr>\n",
       "  </thead>\n",
       "  <tbody>\n",
       "    <tr>\n",
       "      <th>frequency</th>\n",
       "      <td>1.000000</td>\n",
       "      <td>0.082631</td>\n",
       "    </tr>\n",
       "    <tr>\n",
       "      <th>monetary_value</th>\n",
       "      <td>0.082631</td>\n",
       "      <td>1.000000</td>\n",
       "    </tr>\n",
       "  </tbody>\n",
       "</table>\n",
       "</div>"
      ],
      "text/plain": [
       "                frequency  monetary_value\n",
       "frequency        1.000000        0.082631\n",
       "monetary_value   0.082631        1.000000"
      ]
     },
     "execution_count": 23,
     "metadata": {},
     "output_type": "execute_result"
    }
   ],
   "source": [
    "clv[['frequency','monetary_value']].corr()"
   ]
  },
  {
   "cell_type": "markdown",
   "id": "33f74ab1-e808-4a0e-9bdd-ba0cd07e82d3",
   "metadata": {},
   "source": [
    "At this point we can train our Gamma-Gamma submodel and predict the conditional, expected average lifetime value of our customers."
   ]
  },
  {
   "cell_type": "code",
   "execution_count": 24,
   "id": "c4d8e682-d956-486c-9770-d5d96a2b839d",
   "metadata": {},
   "outputs": [
    {
     "data": {
      "text/plain": [
       "<lifetimes.GammaGammaFitter: fitted with 1738 subjects, p: 3.80, q: 0.35, v: 3.73>"
      ]
     },
     "execution_count": 24,
     "metadata": {},
     "output_type": "execute_result"
    }
   ],
   "source": [
    "ggf = GammaGammaFitter(penalizer_coef=0.01)\n",
    "ggf.fit(clv[\"frequency\"],\n",
    "        clv[\"monetary_value\"])"
   ]
  },
  {
   "cell_type": "markdown",
   "id": "1c18b83c-07f3-4b8f-bb8a-25c04ab0d5af",
   "metadata": {},
   "source": [
    "### 6 months Customer Lifetime Value"
   ]
  },
  {
   "cell_type": "code",
   "execution_count": 25,
   "id": "3150bf5e-ce9f-4b18-98d3-1e22c4c1cf7a",
   "metadata": {},
   "outputs": [],
   "source": [
    "clv['6_Months_CLV']=ggf.customer_lifetime_value(bgf,\n",
    "                                   clv[\"frequency\"],\n",
    "                                   clv[\"recency\"],\n",
    "                                   clv[\"T\"],\n",
    "                                   clv[\"monetary_value\"],\n",
    "                                   time=6,\n",
    "                                   freq='D',\n",
    "                                   discount_rate=0.01)"
   ]
  },
  {
   "cell_type": "code",
   "execution_count": 29,
   "id": "31a7e1e1-ca77-45c0-8fb4-41d32c7ac2d4",
   "metadata": {},
   "outputs": [
    {
     "data": {
      "text/html": [
       "<div>\n",
       "<style scoped>\n",
       "    .dataframe tbody tr th:only-of-type {\n",
       "        vertical-align: middle;\n",
       "    }\n",
       "\n",
       "    .dataframe tbody tr th {\n",
       "        vertical-align: top;\n",
       "    }\n",
       "\n",
       "    .dataframe thead th {\n",
       "        text-align: right;\n",
       "    }\n",
       "</style>\n",
       "<table border=\"1\" class=\"dataframe\">\n",
       "  <thead>\n",
       "    <tr style=\"text-align: right;\">\n",
       "      <th></th>\n",
       "      <th>frequency</th>\n",
       "      <th>recency</th>\n",
       "      <th>T</th>\n",
       "      <th>monetary_value</th>\n",
       "      <th>expected_purc_6_months</th>\n",
       "      <th>6_Months_CLV</th>\n",
       "    </tr>\n",
       "    <tr>\n",
       "      <th>CustomerID</th>\n",
       "      <th></th>\n",
       "      <th></th>\n",
       "      <th></th>\n",
       "      <th></th>\n",
       "      <th></th>\n",
       "      <th></th>\n",
       "    </tr>\n",
       "  </thead>\n",
       "  <tbody>\n",
       "    <tr>\n",
       "      <th>14096.0</th>\n",
       "      <td>16.0</td>\n",
       "      <td>97.0</td>\n",
       "      <td>101.0</td>\n",
       "      <td>3012.454375</td>\n",
       "      <td>15.528400</td>\n",
       "      <td>45677.610915</td>\n",
       "    </tr>\n",
       "    <tr>\n",
       "      <th>18102.0</th>\n",
       "      <td>25.0</td>\n",
       "      <td>367.0</td>\n",
       "      <td>367.0</td>\n",
       "      <td>2112.843200</td>\n",
       "      <td>10.287978</td>\n",
       "      <td>21142.592872</td>\n",
       "    </tr>\n",
       "    <tr>\n",
       "      <th>13089.0</th>\n",
       "      <td>65.0</td>\n",
       "      <td>367.0</td>\n",
       "      <td>369.0</td>\n",
       "      <td>784.818308</td>\n",
       "      <td>25.211693</td>\n",
       "      <td>19164.137958</td>\n",
       "    </tr>\n",
       "    <tr>\n",
       "      <th>17511.0</th>\n",
       "      <td>27.0</td>\n",
       "      <td>371.0</td>\n",
       "      <td>373.0</td>\n",
       "      <td>1798.113704</td>\n",
       "      <td>10.902877</td>\n",
       "      <td>19058.975876</td>\n",
       "    </tr>\n",
       "    <tr>\n",
       "      <th>14088.0</th>\n",
       "      <td>11.0</td>\n",
       "      <td>312.0</td>\n",
       "      <td>322.0</td>\n",
       "      <td>3352.988182</td>\n",
       "      <td>5.549070</td>\n",
       "      <td>18258.492844</td>\n",
       "    </tr>\n",
       "  </tbody>\n",
       "</table>\n",
       "</div>"
      ],
      "text/plain": [
       "            frequency  recency      T  monetary_value  expected_purc_6_months  6_Months_CLV\n",
       "CustomerID                                                                                 \n",
       "14096.0          16.0     97.0  101.0     3012.454375               15.528400  45677.610915\n",
       "18102.0          25.0    367.0  367.0     2112.843200               10.287978  21142.592872\n",
       "13089.0          65.0    367.0  369.0      784.818308               25.211693  19164.137958\n",
       "17511.0          27.0    371.0  373.0     1798.113704               10.902877  19058.975876\n",
       "14088.0          11.0    312.0  322.0     3352.988182                5.549070  18258.492844"
      ]
     },
     "execution_count": 29,
     "metadata": {},
     "output_type": "execute_result"
    }
   ],
   "source": [
    "clv.sort_values('6_Months_CLV',ascending=False).head()"
   ]
  },
  {
   "cell_type": "markdown",
   "id": "61b0eb52-ee55-4ad0-b09e-f73f74aa1d80",
   "metadata": {},
   "source": [
    "#### Segmentation Customers by 6 Months CLV"
   ]
  },
  {
   "cell_type": "code",
   "execution_count": 37,
   "id": "b1bd90a1-0b8c-4163-b8d2-7ad5982189af",
   "metadata": {},
   "outputs": [],
   "source": [
    "clv['Segment'] =  pd.qcut(clv['6_Months_CLV'],4,labels = ['Hibernating','Need Attention',\n",
    "                                                          'Loyal Customers','Champions'])"
   ]
  },
  {
   "cell_type": "code",
   "execution_count": 38,
   "id": "f7b922c6-f15b-41f7-8a17-7a9f3a61798f",
   "metadata": {},
   "outputs": [
    {
     "data": {
      "text/html": [
       "<div>\n",
       "<style scoped>\n",
       "    .dataframe tbody tr th:only-of-type {\n",
       "        vertical-align: middle;\n",
       "    }\n",
       "\n",
       "    .dataframe tbody tr th {\n",
       "        vertical-align: top;\n",
       "    }\n",
       "\n",
       "    .dataframe thead th {\n",
       "        text-align: right;\n",
       "    }\n",
       "</style>\n",
       "<table border=\"1\" class=\"dataframe\">\n",
       "  <thead>\n",
       "    <tr style=\"text-align: right;\">\n",
       "      <th></th>\n",
       "      <th>frequency</th>\n",
       "      <th>recency</th>\n",
       "      <th>T</th>\n",
       "      <th>monetary_value</th>\n",
       "      <th>expected_purc_6_months</th>\n",
       "      <th>6_Months_CLV</th>\n",
       "      <th>Segment</th>\n",
       "    </tr>\n",
       "    <tr>\n",
       "      <th>CustomerID</th>\n",
       "      <th></th>\n",
       "      <th></th>\n",
       "      <th></th>\n",
       "      <th></th>\n",
       "      <th></th>\n",
       "      <th></th>\n",
       "      <th></th>\n",
       "    </tr>\n",
       "  </thead>\n",
       "  <tbody>\n",
       "    <tr>\n",
       "      <th>12747.0</th>\n",
       "      <td>10.0</td>\n",
       "      <td>367.0</td>\n",
       "      <td>369.0</td>\n",
       "      <td>375.725000</td>\n",
       "      <td>4.632775</td>\n",
       "      <td>1712.381633</td>\n",
       "      <td>Champions</td>\n",
       "    </tr>\n",
       "    <tr>\n",
       "      <th>12748.0</th>\n",
       "      <td>112.0</td>\n",
       "      <td>373.0</td>\n",
       "      <td>373.0</td>\n",
       "      <td>257.314911</td>\n",
       "      <td>42.444401</td>\n",
       "      <td>10566.853327</td>\n",
       "      <td>Champions</td>\n",
       "    </tr>\n",
       "    <tr>\n",
       "      <th>12749.0</th>\n",
       "      <td>3.0</td>\n",
       "      <td>210.0</td>\n",
       "      <td>213.0</td>\n",
       "      <td>999.106667</td>\n",
       "      <td>2.979965</td>\n",
       "      <td>3054.158128</td>\n",
       "      <td>Champions</td>\n",
       "    </tr>\n",
       "    <tr>\n",
       "      <th>12820.0</th>\n",
       "      <td>3.0</td>\n",
       "      <td>323.0</td>\n",
       "      <td>326.0</td>\n",
       "      <td>256.573333</td>\n",
       "      <td>2.211293</td>\n",
       "      <td>584.100407</td>\n",
       "      <td>Need Attention</td>\n",
       "    </tr>\n",
       "    <tr>\n",
       "      <th>12823.0</th>\n",
       "      <td>4.0</td>\n",
       "      <td>222.0</td>\n",
       "      <td>296.0</td>\n",
       "      <td>252.450000</td>\n",
       "      <td>2.814953</td>\n",
       "      <td>719.842220</td>\n",
       "      <td>Need Attention</td>\n",
       "    </tr>\n",
       "  </tbody>\n",
       "</table>\n",
       "</div>"
      ],
      "text/plain": [
       "            frequency  recency      T  monetary_value  expected_purc_6_months  6_Months_CLV         Segment\n",
       "CustomerID                                                                                                 \n",
       "12747.0          10.0    367.0  369.0      375.725000                4.632775   1712.381633       Champions\n",
       "12748.0         112.0    373.0  373.0      257.314911               42.444401  10566.853327       Champions\n",
       "12749.0           3.0    210.0  213.0      999.106667                2.979965   3054.158128       Champions\n",
       "12820.0           3.0    323.0  326.0      256.573333                2.211293    584.100407  Need Attention\n",
       "12823.0           4.0    222.0  296.0      252.450000                2.814953    719.842220  Need Attention"
      ]
     },
     "execution_count": 38,
     "metadata": {},
     "output_type": "execute_result"
    }
   ],
   "source": [
    "clv.head()"
   ]
  },
  {
   "cell_type": "markdown",
   "id": "45a4659d-ac27-4e13-a613-6a2ac6120d17",
   "metadata": {},
   "source": [
    "### Final Dataframe"
   ]
  },
  {
   "cell_type": "code",
   "execution_count": 36,
   "id": "1ef9f89f-2ba0-468a-9e30-81bdf67f3ac3",
   "metadata": {},
   "outputs": [
    {
     "data": {
      "text/html": [
       "<div>\n",
       "<style scoped>\n",
       "    .dataframe tbody tr th:only-of-type {\n",
       "        vertical-align: middle;\n",
       "    }\n",
       "\n",
       "    .dataframe tbody tr th {\n",
       "        vertical-align: top;\n",
       "    }\n",
       "\n",
       "    .dataframe thead th {\n",
       "        text-align: right;\n",
       "    }\n",
       "</style>\n",
       "<table border=\"1\" class=\"dataframe\">\n",
       "  <thead>\n",
       "    <tr style=\"text-align: right;\">\n",
       "      <th></th>\n",
       "      <th>frequency</th>\n",
       "      <th>recency</th>\n",
       "      <th>T</th>\n",
       "      <th>monetary_value</th>\n",
       "      <th>expected_purc_6_months</th>\n",
       "      <th>6_Months_CLV</th>\n",
       "    </tr>\n",
       "    <tr>\n",
       "      <th>Segment</th>\n",
       "      <th></th>\n",
       "      <th></th>\n",
       "      <th></th>\n",
       "      <th></th>\n",
       "      <th></th>\n",
       "      <th></th>\n",
       "    </tr>\n",
       "  </thead>\n",
       "  <tbody>\n",
       "    <tr>\n",
       "      <th>Hibernating</th>\n",
       "      <td>3.174713</td>\n",
       "      <td>221.337931</td>\n",
       "      <td>292.245977</td>\n",
       "      <td>147.152900</td>\n",
       "      <td>2.553847</td>\n",
       "      <td>364.667903</td>\n",
       "    </tr>\n",
       "    <tr>\n",
       "      <th>Need Attention</th>\n",
       "      <td>4.027650</td>\n",
       "      <td>240.140553</td>\n",
       "      <td>284.440092</td>\n",
       "      <td>265.378345</td>\n",
       "      <td>2.989161</td>\n",
       "      <td>745.573232</td>\n",
       "    </tr>\n",
       "    <tr>\n",
       "      <th>Loyal Customers</th>\n",
       "      <td>5.592166</td>\n",
       "      <td>242.944700</td>\n",
       "      <td>276.027650</td>\n",
       "      <td>365.362234</td>\n",
       "      <td>3.759721</td>\n",
       "      <td>1234.753807</td>\n",
       "    </tr>\n",
       "    <tr>\n",
       "      <th>Champions</th>\n",
       "      <td>11.108046</td>\n",
       "      <td>261.354023</td>\n",
       "      <td>280.475862</td>\n",
       "      <td>584.771128</td>\n",
       "      <td>5.994943</td>\n",
       "      <td>3095.935737</td>\n",
       "    </tr>\n",
       "  </tbody>\n",
       "</table>\n",
       "</div>"
      ],
      "text/plain": [
       "                 frequency     recency           T  monetary_value  expected_purc_6_months  6_Months_CLV\n",
       "Segment                                                                                                 \n",
       "Hibernating       3.174713  221.337931  292.245977      147.152900                2.553847    364.667903\n",
       "Need Attention    4.027650  240.140553  284.440092      265.378345                2.989161    745.573232\n",
       "Loyal Customers   5.592166  242.944700  276.027650      365.362234                3.759721   1234.753807\n",
       "Champions        11.108046  261.354023  280.475862      584.771128                5.994943   3095.935737"
      ]
     },
     "execution_count": 36,
     "metadata": {},
     "output_type": "execute_result"
    }
   ],
   "source": [
    "clv.groupby('Segment').mean()"
   ]
  },
  {
   "cell_type": "markdown",
   "id": "a25a8a47-5dfb-45dc-8012-99545668ad4f",
   "metadata": {},
   "source": [
    "### Group by Segment"
   ]
  },
  {
   "cell_type": "code",
   "execution_count": 39,
   "id": "69934597-fbad-46f9-a7eb-6fcaf1204eb0",
   "metadata": {},
   "outputs": [
    {
     "data": {
      "text/html": [
       "<div>\n",
       "<style scoped>\n",
       "    .dataframe tbody tr th:only-of-type {\n",
       "        vertical-align: middle;\n",
       "    }\n",
       "\n",
       "    .dataframe tbody tr th {\n",
       "        vertical-align: top;\n",
       "    }\n",
       "\n",
       "    .dataframe thead th {\n",
       "        text-align: right;\n",
       "    }\n",
       "</style>\n",
       "<table border=\"1\" class=\"dataframe\">\n",
       "  <thead>\n",
       "    <tr style=\"text-align: right;\">\n",
       "      <th></th>\n",
       "      <th>frequency</th>\n",
       "      <th>recency</th>\n",
       "      <th>T</th>\n",
       "      <th>monetary_value</th>\n",
       "      <th>expected_purc_6_months</th>\n",
       "      <th>6_Months_CLV</th>\n",
       "    </tr>\n",
       "    <tr>\n",
       "      <th>Segment</th>\n",
       "      <th></th>\n",
       "      <th></th>\n",
       "      <th></th>\n",
       "      <th></th>\n",
       "      <th></th>\n",
       "      <th></th>\n",
       "    </tr>\n",
       "  </thead>\n",
       "  <tbody>\n",
       "    <tr>\n",
       "      <th>Hibernating</th>\n",
       "      <td>3.174713</td>\n",
       "      <td>221.337931</td>\n",
       "      <td>292.245977</td>\n",
       "      <td>147.152900</td>\n",
       "      <td>2.553847</td>\n",
       "      <td>364.667903</td>\n",
       "    </tr>\n",
       "    <tr>\n",
       "      <th>Need Attention</th>\n",
       "      <td>4.027650</td>\n",
       "      <td>240.140553</td>\n",
       "      <td>284.440092</td>\n",
       "      <td>265.378345</td>\n",
       "      <td>2.989161</td>\n",
       "      <td>745.573232</td>\n",
       "    </tr>\n",
       "    <tr>\n",
       "      <th>Loyal Customers</th>\n",
       "      <td>5.592166</td>\n",
       "      <td>242.944700</td>\n",
       "      <td>276.027650</td>\n",
       "      <td>365.362234</td>\n",
       "      <td>3.759721</td>\n",
       "      <td>1234.753807</td>\n",
       "    </tr>\n",
       "    <tr>\n",
       "      <th>Champions</th>\n",
       "      <td>11.108046</td>\n",
       "      <td>261.354023</td>\n",
       "      <td>280.475862</td>\n",
       "      <td>584.771128</td>\n",
       "      <td>5.994943</td>\n",
       "      <td>3095.935737</td>\n",
       "    </tr>\n",
       "  </tbody>\n",
       "</table>\n",
       "</div>"
      ],
      "text/plain": [
       "                 frequency     recency           T  monetary_value  expected_purc_6_months  6_Months_CLV\n",
       "Segment                                                                                                 \n",
       "Hibernating       3.174713  221.337931  292.245977      147.152900                2.553847    364.667903\n",
       "Need Attention    4.027650  240.140553  284.440092      265.378345                2.989161    745.573232\n",
       "Loyal Customers   5.592166  242.944700  276.027650      365.362234                3.759721   1234.753807\n",
       "Champions        11.108046  261.354023  280.475862      584.771128                5.994943   3095.935737"
      ]
     },
     "execution_count": 39,
     "metadata": {},
     "output_type": "execute_result"
    }
   ],
   "source": [
    "clv.groupby('Segment').mean()"
   ]
  },
  {
   "cell_type": "markdown",
   "id": "a15217e3-a6b6-425e-ad9d-41a7e05ed6fb",
   "metadata": {},
   "source": [
    "### Thank you"
   ]
  }
 ],
 "metadata": {
  "kernelspec": {
   "display_name": "rfm",
   "language": "python",
   "name": "rfm"
  },
  "language_info": {
   "codemirror_mode": {
    "name": "ipython",
    "version": 3
   },
   "file_extension": ".py",
   "mimetype": "text/x-python",
   "name": "python",
   "nbconvert_exporter": "python",
   "pygments_lexer": "ipython3",
   "version": "3.9.7"
  }
 },
 "nbformat": 4,
 "nbformat_minor": 5
}
